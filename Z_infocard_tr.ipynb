{
 "cells": [
  {
   "cell_type": "code",
   "execution_count": 1,
   "metadata": {},
   "outputs": [],
   "source": [
    "with open(\"./mod-assets/blaster_infocards.frc\") as o:\n",
    "    lines = o.readlines()"
   ]
  },
  {
   "cell_type": "code",
   "execution_count": 2,
   "metadata": {},
   "outputs": [
    {
     "name": "stderr",
     "output_type": "stream",
     "text": [
      "c:\\Users\\Katzenkebap\\miniconda3\\envs\\bmod-dev\\Lib\\site-packages\\tqdm\\auto.py:21: TqdmWarning: IProgress not found. Please update jupyter and ipywidgets. See https://ipywidgets.readthedocs.io/en/stable/user_install.html\n",
      "  from .autonotebook import tqdm as notebook_tqdm\n"
     ]
    }
   ],
   "source": [
    "from typing import List\n",
    "from collections import OrderedDict\n",
    "from tqdm.auto import tqdm"
   ]
  },
  {
   "cell_type": "code",
   "execution_count": 3,
   "metadata": {},
   "outputs": [
    {
     "name": "stderr",
     "output_type": "stream",
     "text": [
      "100%|██████████| 3352/3352 [00:00<00:00, 670192.92it/s]\n"
     ]
    }
   ],
   "source": [
    "class entry:\n",
    "    \n",
    "    def __init__(self, typus: str, idx: int, content: str):\n",
    "        self.typus = typus\n",
    "        self.idx = idx\n",
    "        self.content = content\n",
    "\n",
    "def make_entries(lines: List[str, ]):\n",
    "    \n",
    "    entries = OrderedDict()\n",
    "    first = True\n",
    "    \n",
    "    for line in tqdm(lines):\n",
    "        \n",
    "        # new block\n",
    "        if line.startswith(\"H \") or line.startswith(\"S \"):\n",
    "            \n",
    "            # save old block\n",
    "            if not first:\n",
    "                entries[idx] = entry(typus, idx, content)\n",
    "            else:\n",
    "                first = False\n",
    "            \n",
    "            # start new block\n",
    "            content = \"\"\n",
    "            typus = line[0]\n",
    "            if typus == \"S\":\n",
    "                idx = line.split(\" \")[1]\n",
    "            elif typus == \"H\":\n",
    "                idx = line.split(\" \")[1].strip(\"\\n\")\n",
    "            else:\n",
    "                raise NotImplementedError(f\"What kind of fucked up entry is this? '{line}'\")\n",
    "            \n",
    "        content += line\n",
    "            \n",
    "    return entries\n",
    "\n",
    "entries = make_entries(lines)"
   ]
  },
  {
   "cell_type": "code",
   "execution_count": 4,
   "metadata": {},
   "outputs": [],
   "source": [
    "infocard_boilerplate = {\n",
    "    \"Turret\": \"This tri-linked housing pairs three <BLASTER_NAME> blasters and a gimballed turret mount, requiring a specialized PD hardpoint to mount.\\n\",\n",
    "    \"1x Blaster\": \"\",\n",
    "    \"2x Blaster\": \"This twin-linked housing combines two <BLASTER_NAME> blasters into a single fixture, requiring a Medium Energy hardpoint to mount. Twin-linked blasters pack double the power into every shot, but are slightly less energy efficient and accurate than their smaller cousins.\\n\",\n",
    "    \"3x Blaster\": \"This tri-linked housing combines three <BLASTER_NAME> blasters into a single fixture, requiring a Large Energy hardpoint to mount. Tri-linked blasters pack triple the power into every shot, but are somewhat less energy efficient and accurate than their smaller cousins.\\n\"\n",
    "}\n",
    "\n",
    "infocard_multiplicity = {\n",
    "    (1, False): \"\",\n",
    "    (2, False): \" Twin-Linked\",\n",
    "    (3, False): \" Tri-Linked\",\n",
    "    (3, True): \" Tri-Linked Gyromounted\",\n",
    "}\n",
    "\n",
    "display_multiplicity = {\n",
    "    (1, False): \"\",\n",
    "    (2, False): \" 2x\",\n",
    "    (3, False): \" 3x\",\n",
    "    (3, True): \" 3x Turret\",\n",
    "}\n",
    "\n",
    "def make_infocard_entry(name: str, long_name: str, info: str, is_turret: bool, mp: int, mp_info: str, variant_sh: str, variant_desc: str, variant_info: str, variant_display: str):\n",
    "    \n",
    "    try:\n",
    "    \n",
    "        display_name = name+display_multiplicity[mp]+variant_display\n",
    "        \n",
    "        info_paragraphs = info.split(\"\\n\\n\")\n",
    "        \n",
    "        if len(info_paragraphs) > 1:\n",
    "            new_info = \"\\n\\n\".join([mp_info, info_paragraphs[0], variant_info] + info_paragraphs[1:])\n",
    "        else:\n",
    "            new_info = \"\\n\\n\".join([mp_info, info_paragraphs[0], variant_info])\n",
    "            \n",
    "        long_name_split = long_name.split(\" \")\n",
    "        long_name_num = long_name_split[0]\n",
    "        infocard_header = f'\\\\m\\\\b{infocard_multiplicity[(mp, is_turret)]} {long_name_num}-{variant_sh.upper()} {\" \".join(long_name_split[1:])}{variant_desc}\\\\B'\n",
    "        \n",
    "        new_infocard = f'{infocard_header}\\n\\\\l{new_info}\\\\n'\n",
    "        \n",
    "        return display_name, new_infocard\n",
    "    \n",
    "    except:\n",
    "        \n",
    "        print(f\"ERROR: Could not generate variant Infocard entry for {name}. Maybe the format is different from the regular format for this type of weapon?\")\n",
    "        return display_name, info"
   ]
  },
  {
   "cell_type": "markdown",
   "metadata": {},
   "source": [
    "- for each gun:\n",
    "- find the corresponding S and H entries\n",
    "  - S = ids name col from gun\n",
    "  - H = ids info col from gun\n",
    "- generate new S and H entries\n",
    "  - generate new S (S = TODO)\n",
    "  - generate new H (H = S + TODO)\n",
    "- write to ordereddict\n",
    "- write ordereddict to file "
   ]
  }
 ],
 "metadata": {
  "kernelspec": {
   "display_name": "bmod-dev",
   "language": "python",
   "name": "python3"
  },
  "language_info": {
   "codemirror_mode": {
    "name": "ipython",
    "version": 3
   },
   "file_extension": ".py",
   "mimetype": "text/x-python",
   "name": "python",
   "nbconvert_exporter": "python",
   "pygments_lexer": "ipython3",
   "version": "3.11.5"
  }
 },
 "nbformat": 4,
 "nbformat_minor": 2
}
